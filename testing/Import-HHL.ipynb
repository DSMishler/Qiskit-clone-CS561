{
 "cells": [
  {
   "cell_type": "code",
   "execution_count": 12,
   "id": "15352dcc",
   "metadata": {},
   "outputs": [],
   "source": [
    "import numpy as np\n",
    "import qiskit\n",
    "import sympy\n",
    "from sympy.physics.quantum import TensorProduct"
   ]
  },
  {
   "cell_type": "code",
   "execution_count": 16,
   "id": "2d02b296",
   "metadata": {},
   "outputs": [],
   "source": [
    "basis_1d = []\n",
    "basis_1d.append(sympy.Matrix([[1],[0]]))\n",
    "basis_1d.append(sympy.Matrix([[0],[1]]))"
   ]
  },
  {
   "cell_type": "code",
   "execution_count": 19,
   "id": "1567ae10",
   "metadata": {},
   "outputs": [],
   "source": [
    "basis_2d = []\n",
    "for i in basis_1d:\n",
    "    for j in basis_1d:\n",
    "        basis_2d.append(TensorProduct(i,j))"
   ]
  },
  {
   "cell_type": "code",
   "execution_count": null,
   "id": "a85b37aa",
   "metadata": {},
   "outputs": [],
   "source": []
  },
  {
   "cell_type": "code",
   "execution_count": null,
   "id": "45cdea9c",
   "metadata": {},
   "outputs": [],
   "source": []
  }
 ],
 "metadata": {
  "kernelspec": {
   "display_name": "Python 3",
   "language": "python",
   "name": "python3"
  },
  "language_info": {
   "codemirror_mode": {
    "name": "ipython",
    "version": 3
   },
   "file_extension": ".py",
   "mimetype": "text/x-python",
   "name": "python",
   "nbconvert_exporter": "python",
   "pygments_lexer": "ipython3",
   "version": "3.8.8"
  }
 },
 "nbformat": 4,
 "nbformat_minor": 5
}
