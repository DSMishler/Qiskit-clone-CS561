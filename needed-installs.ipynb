{
 "cells": [
  {
   "cell_type": "code",
   "execution_count": 1,
   "id": "36b2418e",
   "metadata": {},
   "outputs": [
    {
     "name": "stdout",
     "output_type": "stream",
     "text": [
      "Requirement already satisfied: qiskit in /home/dsmishler/anaconda3/lib/python3.8/site-packages (0.34.2)\n",
      "Requirement already satisfied: qiskit-terra==0.19.2 in /home/dsmishler/anaconda3/lib/python3.8/site-packages (from qiskit) (0.19.2)\n",
      "Requirement already satisfied: qiskit-ignis==0.7.0 in /home/dsmishler/anaconda3/lib/python3.8/site-packages (from qiskit) (0.7.0)\n",
      "Requirement already satisfied: qiskit-ibmq-provider==0.18.3 in /home/dsmishler/anaconda3/lib/python3.8/site-packages (from qiskit) (0.18.3)\n",
      "Requirement already satisfied: qiskit-aer==0.10.3 in /home/dsmishler/anaconda3/lib/python3.8/site-packages (from qiskit) (0.10.3)\n",
      "Requirement already satisfied: numpy>=1.16.3 in /home/dsmishler/anaconda3/lib/python3.8/site-packages (from qiskit-aer==0.10.3->qiskit) (1.20.1)\n",
      "Requirement already satisfied: scipy>=1.0 in /home/dsmishler/anaconda3/lib/python3.8/site-packages (from qiskit-aer==0.10.3->qiskit) (1.6.2)\n",
      "Requirement already satisfied: websocket-client>=1.0.1 in /home/dsmishler/anaconda3/lib/python3.8/site-packages (from qiskit-ibmq-provider==0.18.3->qiskit) (1.3.1)\n",
      "Requirement already satisfied: urllib3>=1.21.1 in /home/dsmishler/anaconda3/lib/python3.8/site-packages (from qiskit-ibmq-provider==0.18.3->qiskit) (1.26.4)\n",
      "Requirement already satisfied: python-dateutil>=2.8.0 in /home/dsmishler/anaconda3/lib/python3.8/site-packages (from qiskit-ibmq-provider==0.18.3->qiskit) (2.8.1)\n",
      "Requirement already satisfied: requests>=2.19 in /home/dsmishler/anaconda3/lib/python3.8/site-packages (from qiskit-ibmq-provider==0.18.3->qiskit) (2.25.1)\n",
      "Requirement already satisfied: requests-ntlm>=1.1.0 in /home/dsmishler/anaconda3/lib/python3.8/site-packages (from qiskit-ibmq-provider==0.18.3->qiskit) (1.1.0)\n",
      "Requirement already satisfied: setuptools>=40.1.0 in /home/dsmishler/anaconda3/lib/python3.8/site-packages (from qiskit-ignis==0.7.0->qiskit) (52.0.0.post20210125)\n",
      "Requirement already satisfied: retworkx>=0.8.0 in /home/dsmishler/anaconda3/lib/python3.8/site-packages (from qiskit-ignis==0.7.0->qiskit) (0.11.0)\n",
      "Requirement already satisfied: dill>=0.3 in /home/dsmishler/anaconda3/lib/python3.8/site-packages (from qiskit-terra==0.19.2->qiskit) (0.3.4)\n",
      "Requirement already satisfied: python-constraint>=1.4 in /home/dsmishler/anaconda3/lib/python3.8/site-packages (from qiskit-terra==0.19.2->qiskit) (1.4.0)\n",
      "Requirement already satisfied: symengine>=0.8 in /home/dsmishler/anaconda3/lib/python3.8/site-packages (from qiskit-terra==0.19.2->qiskit) (0.9.2)\n",
      "Requirement already satisfied: psutil>=5 in /home/dsmishler/anaconda3/lib/python3.8/site-packages (from qiskit-terra==0.19.2->qiskit) (5.8.0)\n",
      "Requirement already satisfied: ply>=3.10 in /home/dsmishler/anaconda3/lib/python3.8/site-packages (from qiskit-terra==0.19.2->qiskit) (3.11)\n",
      "Requirement already satisfied: stevedore>=3.0.0 in /home/dsmishler/anaconda3/lib/python3.8/site-packages (from qiskit-terra==0.19.2->qiskit) (3.5.0)\n",
      "Requirement already satisfied: sympy>=1.3 in /home/dsmishler/anaconda3/lib/python3.8/site-packages (from qiskit-terra==0.19.2->qiskit) (1.8)\n",
      "Requirement already satisfied: tweedledum<2.0,>=1.1 in /home/dsmishler/anaconda3/lib/python3.8/site-packages (from qiskit-terra==0.19.2->qiskit) (1.1.1)\n",
      "Requirement already satisfied: six>=1.5 in /home/dsmishler/anaconda3/lib/python3.8/site-packages (from python-dateutil>=2.8.0->qiskit-ibmq-provider==0.18.3->qiskit) (1.15.0)\n",
      "Requirement already satisfied: idna<3,>=2.5 in /home/dsmishler/anaconda3/lib/python3.8/site-packages (from requests>=2.19->qiskit-ibmq-provider==0.18.3->qiskit) (2.10)\n",
      "Requirement already satisfied: chardet<5,>=3.0.2 in /home/dsmishler/anaconda3/lib/python3.8/site-packages (from requests>=2.19->qiskit-ibmq-provider==0.18.3->qiskit) (4.0.0)\n",
      "Requirement already satisfied: certifi>=2017.4.17 in /home/dsmishler/anaconda3/lib/python3.8/site-packages (from requests>=2.19->qiskit-ibmq-provider==0.18.3->qiskit) (2020.12.5)\n",
      "Requirement already satisfied: ntlm-auth>=1.0.2 in /home/dsmishler/anaconda3/lib/python3.8/site-packages (from requests-ntlm>=1.1.0->qiskit-ibmq-provider==0.18.3->qiskit) (1.5.0)\n",
      "Requirement already satisfied: cryptography>=1.3 in /home/dsmishler/anaconda3/lib/python3.8/site-packages (from requests-ntlm>=1.1.0->qiskit-ibmq-provider==0.18.3->qiskit) (3.4.7)\n",
      "Requirement already satisfied: cffi>=1.12 in /home/dsmishler/anaconda3/lib/python3.8/site-packages (from cryptography>=1.3->requests-ntlm>=1.1.0->qiskit-ibmq-provider==0.18.3->qiskit) (1.14.5)\n",
      "Requirement already satisfied: pycparser in /home/dsmishler/anaconda3/lib/python3.8/site-packages (from cffi>=1.12->cryptography>=1.3->requests-ntlm>=1.1.0->qiskit-ibmq-provider==0.18.3->qiskit) (2.20)\n",
      "Requirement already satisfied: pbr!=2.1.0,>=2.0.0 in /home/dsmishler/anaconda3/lib/python3.8/site-packages (from stevedore>=3.0.0->qiskit-terra==0.19.2->qiskit) (5.8.1)\n",
      "Requirement already satisfied: mpmath>=0.19 in /home/dsmishler/anaconda3/lib/python3.8/site-packages (from sympy>=1.3->qiskit-terra==0.19.2->qiskit) (1.2.1)\n",
      "Note: you may need to restart the kernel to use updated packages.\n"
     ]
    }
   ],
   "source": [
    "pip install qiskit"
   ]
  },
  {
   "cell_type": "code",
   "execution_count": 2,
   "id": "f2428be5",
   "metadata": {},
   "outputs": [
    {
     "name": "stdout",
     "output_type": "stream",
     "text": [
      "Collecting pylatexenc\n",
      "  Downloading pylatexenc-2.10.tar.gz (162 kB)\n",
      "\u001b[K     |████████████████████████████████| 162 kB 3.0 MB/s eta 0:00:01\n",
      "\u001b[?25hBuilding wheels for collected packages: pylatexenc\n",
      "  Building wheel for pylatexenc (setup.py) ... \u001b[?25ldone\n",
      "\u001b[?25h  Created wheel for pylatexenc: filename=pylatexenc-2.10-py3-none-any.whl size=136823 sha256=4751cd52cdf644f9915b5a0e2fea09309d4dc96b080fc9ff2acdcd0f283cdb08\n",
      "  Stored in directory: /home/dsmishler/.cache/pip/wheels/72/99/be/81d9bcdf5dd5ee5acd8119a9dd5bc07204c9ce205fd341b021\n",
      "Successfully built pylatexenc\n",
      "Installing collected packages: pylatexenc\n",
      "Successfully installed pylatexenc-2.10\n",
      "Note: you may need to restart the kernel to use updated packages.\n"
     ]
    }
   ],
   "source": [
    "pip install pylatexenc"
   ]
  },
  {
   "cell_type": "code",
   "execution_count": null,
   "id": "3f2656e8",
   "metadata": {},
   "outputs": [],
   "source": []
  }
 ],
 "metadata": {
  "kernelspec": {
   "display_name": "Python 3",
   "language": "python",
   "name": "python3"
  },
  "language_info": {
   "codemirror_mode": {
    "name": "ipython",
    "version": 3
   },
   "file_extension": ".py",
   "mimetype": "text/x-python",
   "name": "python",
   "nbconvert_exporter": "python",
   "pygments_lexer": "ipython3",
   "version": "3.8.8"
  }
 },
 "nbformat": 4,
 "nbformat_minor": 5
}
