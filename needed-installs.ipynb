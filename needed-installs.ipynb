{
 "cells": [
  {
   "cell_type": "code",
   "execution_count": 1,
   "id": "36b2418e",
   "metadata": {},
   "outputs": [
    {
     "name": "stdout",
     "output_type": "stream",
     "text": [
      "Requirement already satisfied: qiskit in /home/dsmishler/anaconda3/lib/python3.8/site-packages (0.34.2)\n",
      "Requirement already satisfied: qiskit-aer==0.10.3 in /home/dsmishler/anaconda3/lib/python3.8/site-packages (from qiskit) (0.10.3)\n",
      "Requirement already satisfied: qiskit-terra==0.19.2 in /home/dsmishler/anaconda3/lib/python3.8/site-packages (from qiskit) (0.19.2)\n",
      "Requirement already satisfied: qiskit-ibmq-provider==0.18.3 in /home/dsmishler/anaconda3/lib/python3.8/site-packages (from qiskit) (0.18.3)\n",
      "Requirement already satisfied: qiskit-ignis==0.7.0 in /home/dsmishler/anaconda3/lib/python3.8/site-packages (from qiskit) (0.7.0)\n",
      "Requirement already satisfied: numpy>=1.16.3 in /home/dsmishler/anaconda3/lib/python3.8/site-packages (from qiskit-aer==0.10.3->qiskit) (1.22.3)\n",
      "Requirement already satisfied: scipy>=1.0 in /home/dsmishler/anaconda3/lib/python3.8/site-packages (from qiskit-aer==0.10.3->qiskit) (1.8.0)\n",
      "Requirement already satisfied: urllib3>=1.21.1 in /home/dsmishler/anaconda3/lib/python3.8/site-packages (from qiskit-ibmq-provider==0.18.3->qiskit) (1.26.4)\n",
      "Requirement already satisfied: requests>=2.19 in /home/dsmishler/anaconda3/lib/python3.8/site-packages (from qiskit-ibmq-provider==0.18.3->qiskit) (2.25.1)\n",
      "Requirement already satisfied: requests-ntlm>=1.1.0 in /home/dsmishler/anaconda3/lib/python3.8/site-packages (from qiskit-ibmq-provider==0.18.3->qiskit) (1.1.0)\n",
      "Requirement already satisfied: python-dateutil>=2.8.0 in /home/dsmishler/anaconda3/lib/python3.8/site-packages (from qiskit-ibmq-provider==0.18.3->qiskit) (2.8.1)\n",
      "Requirement already satisfied: websocket-client>=1.0.1 in /home/dsmishler/anaconda3/lib/python3.8/site-packages (from qiskit-ibmq-provider==0.18.3->qiskit) (1.3.1)\n",
      "Requirement already satisfied: setuptools>=40.1.0 in /home/dsmishler/anaconda3/lib/python3.8/site-packages (from qiskit-ignis==0.7.0->qiskit) (52.0.0.post20210125)\n",
      "Requirement already satisfied: retworkx>=0.8.0 in /home/dsmishler/anaconda3/lib/python3.8/site-packages (from qiskit-ignis==0.7.0->qiskit) (0.11.0)\n",
      "Requirement already satisfied: dill>=0.3 in /home/dsmishler/anaconda3/lib/python3.8/site-packages (from qiskit-terra==0.19.2->qiskit) (0.3.4)\n",
      "Requirement already satisfied: psutil>=5 in /home/dsmishler/anaconda3/lib/python3.8/site-packages (from qiskit-terra==0.19.2->qiskit) (5.8.0)\n",
      "Requirement already satisfied: symengine>=0.8 in /home/dsmishler/anaconda3/lib/python3.8/site-packages (from qiskit-terra==0.19.2->qiskit) (0.9.2)\n",
      "Requirement already satisfied: ply>=3.10 in /home/dsmishler/anaconda3/lib/python3.8/site-packages (from qiskit-terra==0.19.2->qiskit) (3.11)\n",
      "Requirement already satisfied: sympy>=1.3 in /home/dsmishler/anaconda3/lib/python3.8/site-packages (from qiskit-terra==0.19.2->qiskit) (1.8)\n",
      "Requirement already satisfied: stevedore>=3.0.0 in /home/dsmishler/anaconda3/lib/python3.8/site-packages (from qiskit-terra==0.19.2->qiskit) (3.5.0)\n",
      "Requirement already satisfied: tweedledum<2.0,>=1.1 in /home/dsmishler/anaconda3/lib/python3.8/site-packages (from qiskit-terra==0.19.2->qiskit) (1.1.1)\n",
      "Requirement already satisfied: python-constraint>=1.4 in /home/dsmishler/anaconda3/lib/python3.8/site-packages (from qiskit-terra==0.19.2->qiskit) (1.4.0)\n",
      "Requirement already satisfied: six>=1.5 in /home/dsmishler/anaconda3/lib/python3.8/site-packages (from python-dateutil>=2.8.0->qiskit-ibmq-provider==0.18.3->qiskit) (1.15.0)\n",
      "Requirement already satisfied: idna<3,>=2.5 in /home/dsmishler/anaconda3/lib/python3.8/site-packages (from requests>=2.19->qiskit-ibmq-provider==0.18.3->qiskit) (2.10)\n",
      "Requirement already satisfied: chardet<5,>=3.0.2 in /home/dsmishler/anaconda3/lib/python3.8/site-packages (from requests>=2.19->qiskit-ibmq-provider==0.18.3->qiskit) (4.0.0)\n",
      "Requirement already satisfied: certifi>=2017.4.17 in /home/dsmishler/anaconda3/lib/python3.8/site-packages (from requests>=2.19->qiskit-ibmq-provider==0.18.3->qiskit) (2020.12.5)\n",
      "Requirement already satisfied: ntlm-auth>=1.0.2 in /home/dsmishler/anaconda3/lib/python3.8/site-packages (from requests-ntlm>=1.1.0->qiskit-ibmq-provider==0.18.3->qiskit) (1.5.0)\n",
      "Requirement already satisfied: cryptography>=1.3 in /home/dsmishler/anaconda3/lib/python3.8/site-packages (from requests-ntlm>=1.1.0->qiskit-ibmq-provider==0.18.3->qiskit) (3.4.7)\n",
      "Requirement already satisfied: cffi>=1.12 in /home/dsmishler/anaconda3/lib/python3.8/site-packages (from cryptography>=1.3->requests-ntlm>=1.1.0->qiskit-ibmq-provider==0.18.3->qiskit) (1.14.5)\n",
      "Requirement already satisfied: pycparser in /home/dsmishler/anaconda3/lib/python3.8/site-packages (from cffi>=1.12->cryptography>=1.3->requests-ntlm>=1.1.0->qiskit-ibmq-provider==0.18.3->qiskit) (2.20)\n",
      "Requirement already satisfied: pbr!=2.1.0,>=2.0.0 in /home/dsmishler/anaconda3/lib/python3.8/site-packages (from stevedore>=3.0.0->qiskit-terra==0.19.2->qiskit) (5.8.1)\n",
      "Requirement already satisfied: mpmath>=0.19 in /home/dsmishler/anaconda3/lib/python3.8/site-packages (from sympy>=1.3->qiskit-terra==0.19.2->qiskit) (1.2.1)\n",
      "Note: you may need to restart the kernel to use updated packages.\n"
     ]
    }
   ],
   "source": [
    "pip install qiskit"
   ]
  },
  {
   "cell_type": "code",
   "execution_count": 2,
   "id": "f2428be5",
   "metadata": {},
   "outputs": [
    {
     "name": "stdout",
     "output_type": "stream",
     "text": [
      "Requirement already satisfied: pylatexenc in /home/dsmishler/anaconda3/lib/python3.8/site-packages (2.10)\n",
      "Note: you may need to restart the kernel to use updated packages.\n"
     ]
    }
   ],
   "source": [
    "pip install pylatexenc"
   ]
  },
  {
   "cell_type": "code",
   "execution_count": 3,
   "id": "3f2656e8",
   "metadata": {},
   "outputs": [
    {
     "name": "stdout",
     "output_type": "stream",
     "text": [
      "Requirement already satisfied: pytket in /home/dsmishler/anaconda3/lib/python3.8/site-packages (1.1.0)\n",
      "Requirement already satisfied: types-pkg-resources in /home/dsmishler/anaconda3/lib/python3.8/site-packages (from pytket) (0.1.3)\n",
      "Requirement already satisfied: typing-extensions~=3.7 in /home/dsmishler/anaconda3/lib/python3.8/site-packages (from pytket) (3.7.4.3)\n",
      "Requirement already satisfied: sympy~=1.6 in /home/dsmishler/anaconda3/lib/python3.8/site-packages (from pytket) (1.8)\n",
      "Requirement already satisfied: networkx~=2.4 in /home/dsmishler/anaconda3/lib/python3.8/site-packages (from pytket) (2.5)\n",
      "Requirement already satisfied: jinja2~=3.0 in /home/dsmishler/anaconda3/lib/python3.8/site-packages (from pytket) (3.1.1)\n",
      "Requirement already satisfied: scipy<2.0,>=1.7.2 in /home/dsmishler/anaconda3/lib/python3.8/site-packages (from pytket) (1.8.0)\n",
      "Requirement already satisfied: lark-parser~=0.7 in /home/dsmishler/anaconda3/lib/python3.8/site-packages (from pytket) (0.12.0)\n",
      "Requirement already satisfied: graphviz~=0.14 in /home/dsmishler/anaconda3/lib/python3.8/site-packages (from pytket) (0.19.2)\n",
      "Requirement already satisfied: numpy<2.0,>=1.21.4 in /home/dsmishler/anaconda3/lib/python3.8/site-packages (from pytket) (1.22.3)\n",
      "Requirement already satisfied: MarkupSafe>=2.0 in /home/dsmishler/anaconda3/lib/python3.8/site-packages (from jinja2~=3.0->pytket) (2.1.1)\n",
      "Requirement already satisfied: decorator>=4.3.0 in /home/dsmishler/anaconda3/lib/python3.8/site-packages (from networkx~=2.4->pytket) (5.0.6)\n",
      "Requirement already satisfied: mpmath>=0.19 in /home/dsmishler/anaconda3/lib/python3.8/site-packages (from sympy~=1.6->pytket) (1.2.1)\n",
      "Note: you may need to restart the kernel to use updated packages.\n"
     ]
    }
   ],
   "source": [
    "pip install pytket"
   ]
  },
  {
   "cell_type": "code",
   "execution_count": 4,
   "id": "dce7b131",
   "metadata": {
    "scrolled": false
   },
   "outputs": [
    {
     "name": "stdout",
     "output_type": "stream",
     "text": [
      "Collecting pytket-qiskit\n",
      "  Downloading pytket_qiskit-0.24.0-py3-none-any.whl (36 kB)\n",
      "Collecting qiskit~=0.36.0\n",
      "  Downloading qiskit-0.36.0.tar.gz (13 kB)\n",
      "Requirement already satisfied: pytket~=1.1 in /home/dsmishler/anaconda3/lib/python3.8/site-packages (from pytket-qiskit) (1.1.0)\n",
      "Requirement already satisfied: numpy<2.0,>=1.21.4 in /home/dsmishler/anaconda3/lib/python3.8/site-packages (from pytket~=1.1->pytket-qiskit) (1.22.3)\n",
      "Requirement already satisfied: graphviz~=0.14 in /home/dsmishler/anaconda3/lib/python3.8/site-packages (from pytket~=1.1->pytket-qiskit) (0.19.2)\n",
      "Requirement already satisfied: lark-parser~=0.7 in /home/dsmishler/anaconda3/lib/python3.8/site-packages (from pytket~=1.1->pytket-qiskit) (0.12.0)\n",
      "Requirement already satisfied: sympy~=1.6 in /home/dsmishler/anaconda3/lib/python3.8/site-packages (from pytket~=1.1->pytket-qiskit) (1.8)\n",
      "Requirement already satisfied: scipy<2.0,>=1.7.2 in /home/dsmishler/anaconda3/lib/python3.8/site-packages (from pytket~=1.1->pytket-qiskit) (1.8.0)\n",
      "Requirement already satisfied: jinja2~=3.0 in /home/dsmishler/anaconda3/lib/python3.8/site-packages (from pytket~=1.1->pytket-qiskit) (3.1.1)\n",
      "Requirement already satisfied: typing-extensions~=3.7 in /home/dsmishler/anaconda3/lib/python3.8/site-packages (from pytket~=1.1->pytket-qiskit) (3.7.4.3)\n",
      "Requirement already satisfied: networkx~=2.4 in /home/dsmishler/anaconda3/lib/python3.8/site-packages (from pytket~=1.1->pytket-qiskit) (2.5)\n",
      "Requirement already satisfied: types-pkg-resources in /home/dsmishler/anaconda3/lib/python3.8/site-packages (from pytket~=1.1->pytket-qiskit) (0.1.3)\n",
      "Requirement already satisfied: MarkupSafe>=2.0 in /home/dsmishler/anaconda3/lib/python3.8/site-packages (from jinja2~=3.0->pytket~=1.1->pytket-qiskit) (2.1.1)\n",
      "Requirement already satisfied: decorator>=4.3.0 in /home/dsmishler/anaconda3/lib/python3.8/site-packages (from networkx~=2.4->pytket~=1.1->pytket-qiskit) (5.0.6)\n",
      "Collecting qiskit-terra==0.20.0\n",
      "  Downloading qiskit_terra-0.20.0-cp38-cp38-manylinux_2_17_x86_64.manylinux2014_x86_64.whl (6.5 MB)\n",
      "\u001b[K     |████████████████████████████████| 6.5 MB 5.6 MB/s eta 0:00:01\n",
      "\u001b[?25hCollecting qiskit-aer==0.10.4\n",
      "  Downloading qiskit_aer-0.10.4-cp38-cp38-manylinux_2_12_x86_64.manylinux2010_x86_64.whl (18.0 MB)\n",
      "\u001b[K     |████████████████████████████████| 18.0 MB 10.8 MB/s eta 0:00:01\n",
      "\u001b[?25hCollecting qiskit-ibmq-provider==0.19.0\n",
      "  Downloading qiskit_ibmq_provider-0.19.0-py3-none-any.whl (240 kB)\n",
      "\u001b[K     |████████████████████████████████| 240 kB 13.0 MB/s eta 0:00:01\n",
      "\u001b[?25hRequirement already satisfied: qiskit-ignis==0.7.0 in /home/dsmishler/anaconda3/lib/python3.8/site-packages (from qiskit~=0.36.0->pytket-qiskit) (0.7.0)\n",
      "Requirement already satisfied: urllib3>=1.21.1 in /home/dsmishler/anaconda3/lib/python3.8/site-packages (from qiskit-ibmq-provider==0.19.0->qiskit~=0.36.0->pytket-qiskit) (1.26.4)\n",
      "Requirement already satisfied: websocket-client>=1.0.1 in /home/dsmishler/anaconda3/lib/python3.8/site-packages (from qiskit-ibmq-provider==0.19.0->qiskit~=0.36.0->pytket-qiskit) (1.3.1)\n",
      "Collecting websockets>=10.0\n",
      "  Downloading websockets-10.2-cp38-cp38-manylinux_2_5_x86_64.manylinux1_x86_64.manylinux_2_12_x86_64.manylinux2010_x86_64.whl (110 kB)\n",
      "\u001b[K     |████████████████████████████████| 110 kB 22.3 MB/s eta 0:00:01\n",
      "\u001b[?25hRequirement already satisfied: requests>=2.19 in /home/dsmishler/anaconda3/lib/python3.8/site-packages (from qiskit-ibmq-provider==0.19.0->qiskit~=0.36.0->pytket-qiskit) (2.25.1)\n",
      "Requirement already satisfied: requests-ntlm>=1.1.0 in /home/dsmishler/anaconda3/lib/python3.8/site-packages (from qiskit-ibmq-provider==0.19.0->qiskit~=0.36.0->pytket-qiskit) (1.1.0)\n",
      "Requirement already satisfied: python-dateutil>=2.8.0 in /home/dsmishler/anaconda3/lib/python3.8/site-packages (from qiskit-ibmq-provider==0.19.0->qiskit~=0.36.0->pytket-qiskit) (2.8.1)\n",
      "Requirement already satisfied: retworkx>=0.8.0 in /home/dsmishler/anaconda3/lib/python3.8/site-packages (from qiskit-ignis==0.7.0->qiskit~=0.36.0->pytket-qiskit) (0.11.0)\n",
      "Requirement already satisfied: setuptools>=40.1.0 in /home/dsmishler/anaconda3/lib/python3.8/site-packages (from qiskit-ignis==0.7.0->qiskit~=0.36.0->pytket-qiskit) (52.0.0.post20210125)\n",
      "Requirement already satisfied: psutil>=5 in /home/dsmishler/anaconda3/lib/python3.8/site-packages (from qiskit-terra==0.20.0->qiskit~=0.36.0->pytket-qiskit) (5.8.0)\n",
      "Requirement already satisfied: python-constraint>=1.4 in /home/dsmishler/anaconda3/lib/python3.8/site-packages (from qiskit-terra==0.20.0->qiskit~=0.36.0->pytket-qiskit) (1.4.0)\n",
      "Requirement already satisfied: symengine>=0.9 in /home/dsmishler/anaconda3/lib/python3.8/site-packages (from qiskit-terra==0.20.0->qiskit~=0.36.0->pytket-qiskit) (0.9.2)\n",
      "Requirement already satisfied: dill>=0.3 in /home/dsmishler/anaconda3/lib/python3.8/site-packages (from qiskit-terra==0.20.0->qiskit~=0.36.0->pytket-qiskit) (0.3.4)\n",
      "Requirement already satisfied: ply>=3.10 in /home/dsmishler/anaconda3/lib/python3.8/site-packages (from qiskit-terra==0.20.0->qiskit~=0.36.0->pytket-qiskit) (3.11)\n",
      "Requirement already satisfied: stevedore>=3.0.0 in /home/dsmishler/anaconda3/lib/python3.8/site-packages (from qiskit-terra==0.20.0->qiskit~=0.36.0->pytket-qiskit) (3.5.0)\n",
      "Requirement already satisfied: tweedledum<2.0,>=1.1 in /home/dsmishler/anaconda3/lib/python3.8/site-packages (from qiskit-terra==0.20.0->qiskit~=0.36.0->pytket-qiskit) (1.1.1)\n",
      "Requirement already satisfied: six>=1.5 in /home/dsmishler/anaconda3/lib/python3.8/site-packages (from python-dateutil>=2.8.0->qiskit-ibmq-provider==0.19.0->qiskit~=0.36.0->pytket-qiskit) (1.15.0)\n",
      "Requirement already satisfied: certifi>=2017.4.17 in /home/dsmishler/anaconda3/lib/python3.8/site-packages (from requests>=2.19->qiskit-ibmq-provider==0.19.0->qiskit~=0.36.0->pytket-qiskit) (2020.12.5)\n",
      "Requirement already satisfied: chardet<5,>=3.0.2 in /home/dsmishler/anaconda3/lib/python3.8/site-packages (from requests>=2.19->qiskit-ibmq-provider==0.19.0->qiskit~=0.36.0->pytket-qiskit) (4.0.0)\n",
      "Requirement already satisfied: idna<3,>=2.5 in /home/dsmishler/anaconda3/lib/python3.8/site-packages (from requests>=2.19->qiskit-ibmq-provider==0.19.0->qiskit~=0.36.0->pytket-qiskit) (2.10)\n",
      "Requirement already satisfied: ntlm-auth>=1.0.2 in /home/dsmishler/anaconda3/lib/python3.8/site-packages (from requests-ntlm>=1.1.0->qiskit-ibmq-provider==0.19.0->qiskit~=0.36.0->pytket-qiskit) (1.5.0)\n",
      "Requirement already satisfied: cryptography>=1.3 in /home/dsmishler/anaconda3/lib/python3.8/site-packages (from requests-ntlm>=1.1.0->qiskit-ibmq-provider==0.19.0->qiskit~=0.36.0->pytket-qiskit) (3.4.7)\n",
      "Requirement already satisfied: cffi>=1.12 in /home/dsmishler/anaconda3/lib/python3.8/site-packages (from cryptography>=1.3->requests-ntlm>=1.1.0->qiskit-ibmq-provider==0.19.0->qiskit~=0.36.0->pytket-qiskit) (1.14.5)\n",
      "Requirement already satisfied: pycparser in /home/dsmishler/anaconda3/lib/python3.8/site-packages (from cffi>=1.12->cryptography>=1.3->requests-ntlm>=1.1.0->qiskit-ibmq-provider==0.19.0->qiskit~=0.36.0->pytket-qiskit) (2.20)\n",
      "Requirement already satisfied: pbr!=2.1.0,>=2.0.0 in /home/dsmishler/anaconda3/lib/python3.8/site-packages (from stevedore>=3.0.0->qiskit-terra==0.20.0->qiskit~=0.36.0->pytket-qiskit) (5.8.1)\n",
      "Requirement already satisfied: mpmath>=0.19 in /home/dsmishler/anaconda3/lib/python3.8/site-packages (from sympy~=1.6->pytket~=1.1->pytket-qiskit) (1.2.1)\n",
      "Building wheels for collected packages: qiskit\n",
      "  Building wheel for qiskit (setup.py) ... \u001b[?25ldone\n",
      "\u001b[?25h  Created wheel for qiskit: filename=qiskit-0.36.0-py3-none-any.whl size=11846 sha256=434a4d073ccaa4408bab702af7d5a103ddbc7158f61cd924cb50a4f9e6092b76\n",
      "  Stored in directory: /home/dsmishler/.cache/pip/wheels/17/9a/77/2bcb247a27f566c157de1fb8d63603def70b7abdd36b10104c\n",
      "Successfully built qiskit\n",
      "Installing collected packages: websockets, qiskit-terra, qiskit-ibmq-provider, qiskit-aer, qiskit, pytket-qiskit\n",
      "  Attempting uninstall: qiskit-terra\n",
      "    Found existing installation: qiskit-terra 0.19.2\n",
      "    Uninstalling qiskit-terra-0.19.2:\n",
      "      Successfully uninstalled qiskit-terra-0.19.2\n",
      "  Attempting uninstall: qiskit-ibmq-provider\n",
      "    Found existing installation: qiskit-ibmq-provider 0.18.3\n",
      "    Uninstalling qiskit-ibmq-provider-0.18.3:\n",
      "      Successfully uninstalled qiskit-ibmq-provider-0.18.3\n"
     ]
    },
    {
     "name": "stdout",
     "output_type": "stream",
     "text": [
      "  Attempting uninstall: qiskit-aer\n",
      "    Found existing installation: qiskit-aer 0.10.3\n",
      "    Uninstalling qiskit-aer-0.10.3:\n",
      "      Successfully uninstalled qiskit-aer-0.10.3\n",
      "  Attempting uninstall: qiskit\n",
      "    Found existing installation: qiskit 0.34.2\n",
      "    Uninstalling qiskit-0.34.2:\n",
      "      Successfully uninstalled qiskit-0.34.2\n",
      "Successfully installed pytket-qiskit-0.24.0 qiskit-0.36.0 qiskit-aer-0.10.4 qiskit-ibmq-provider-0.19.0 qiskit-terra-0.20.0 websockets-10.2\n",
      "Note: you may need to restart the kernel to use updated packages.\n"
     ]
    }
   ],
   "source": [
    "pip install pytket-qiskit"
   ]
  },
  {
   "cell_type": "code",
   "execution_count": null,
   "id": "905fec3a",
   "metadata": {},
   "outputs": [],
   "source": []
  }
 ],
 "metadata": {
  "kernelspec": {
   "display_name": "Python 3",
   "language": "python",
   "name": "python3"
  },
  "language_info": {
   "codemirror_mode": {
    "name": "ipython",
    "version": 3
   },
   "file_extension": ".py",
   "mimetype": "text/x-python",
   "name": "python",
   "nbconvert_exporter": "python",
   "pygments_lexer": "ipython3",
   "version": "3.8.8"
  }
 },
 "nbformat": 4,
 "nbformat_minor": 5
}
