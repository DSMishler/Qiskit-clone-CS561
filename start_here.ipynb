{
 "cells": [
  {
   "cell_type": "markdown",
   "metadata": {},
   "source": [
    "![qiskit_header.png](images/qiskit_header.png)"
   ]
  },
  {
   "cell_type": "markdown",
   "metadata": {},
   "source": [
    "# Qiskit Tutorials\n",
    "\n",
    "Welcome Qiskitters.\n",
    "\n",
    "\n",
    "These tutorials aim to explain how to use Qiskit. We assume you have installed Qiskit; if not, please look at [qiskit.org](http://www.qiskit.org) or the install [documentation](https://qiskit.org/documentation/install.html). \n",
    "\n",
    "The focus of these notebooks is not on learning quantum computing.  Instead we will focus on how to use Qiskit, and will go into details only when needed. For those interested in learning about quantum computing we recommend the [Qiskit Textbook](https://qiskit.org/textbook) that we and the community have put together, or the [Qiskit documentation](https://qiskit.org/documentation).\n",
    "\n",
    "\n",
    "## Circuits\n",
    "\n",
    "This section gives you the tools to make your first circuits, execute them, and view the data.\n",
    "\n",
    "1. [Circuit basics](tutorials/circuits/01_circuit_basics.ipynb) - How to use the Qiskit quantum circuit.\n",
    "\n",
    "\n",
    "2. [Plotting data in Qiskit](tutorials/circuits/2_plotting_data_in_qiskit.ipynb) -  Illustrates the different ways of plotting data in Qiskit.\n",
    "\n",
    "\n",
    "3. [Summary of quantum operations](tutorials/circuits/3_summary_of_quantum_operations.ipynb) - List of quantum operations (gates, reset, measurements) in Qiskit Terra\n",
    "  \n",
    "        \n",
    "## Advanced Circuits\n",
    "\n",
    "1. [Advanced circuits](tutorials/circuits_advanced/01_advanced_circuits.ipynb) - Circuit building tools added including registerless declarations, composite gate updates and parameterized circuits.\n",
    "\n",
    "\n",
    "2. [Operators overview](tutorials/circuits_advanced/02_operators_overview.ipynb) - Gives a summary of the features and uses of the Operator class.\n",
    "\n",
    "\n",
    "3. [Advanced circuit visualization](tutorials/circuits_advanced/03_advanced_circuit_visualization.ipynb) - Details on drawing your quantum circuits.\n",
    "\n",
    "\n",
    "4. [Transpiler passes and passmanager](tutorials/circuits_advanced/04_transpiler_passes_and_passmanager.ipynb) - How to use the transpiler passes, passmanger, and extend the transpiler with a new pass.\n",
    "\n",
    "\n",
    "## Pulse\n",
    "\n",
    "1. [Building pulse schedules](tutorials/circuits_advanced/06_building_pulse_schedules.ipynb) - Building schedules of pulses.\n",
    "\n",
    "\n",
    "2. [Pulse Scheduler](tutorials/circuits_advanced/07_pulse_scheduler.ipynb) - Scheduling pulse.\n",
    "\n",
    "\n",
    "3. [Getting system information](tutorials/circuits_advanced/08_gathering_system_information.ipynb) - Obtaining system information.\n",
    "\n",
    "\n",
    "4. [Pulse simulation](tutorials/circuits_advanced/09_pulse_simulator_duffing_model.ipynb) - Simulate a Duffing oscillator using the pulse simulator.\n",
    "\n",
    "\n",
    "##  High-Performance Simulators\n",
    "\n",
    "To really speed up development of quantum computers, we need better simulators with the ability to model realistic noise processes that occur during computation on actual devices. Qiskit provides a high-performance simulator framework called `Aer` for studying quantum computing algorithms and applications in the noisy intermediate-scale quantum regime. \n",
    "\n",
    "1. [Simulators](tutorials/simulators/1_aer_provider.ipynb) - Gives a summary of the Qiskit Aer provider containing the Qasm, statevector, and unitary simulator.\n",
    "\n",
    "\n",
    "2. [Device noise simulation](tutorials/simulators/2_device_noise_simulation.ipynb) - Shows how to use the Qiskit Aer noise module to automatically generate a basic noise model for simulating hardware backends.\n",
    "\n",
    "\n",
    "3. [Building noise models](tutorials/simulators/3_building_noise_models.ipynb) - Shows how to use Qiskit Aer noise module to construct custom noise models for noisy simulations\n",
    "\n",
    "\n",
    "4. [Custom gate noise](tutorials/simulators/4_custom_gate_noise.ipynb) - Shows to implement simulations using custom noisy gates.\n",
    "\n",
    "\n",
    "5. [Noise transformations](tutorials/simulators/5_noise_transformation.ipynb) - Noise approximation utility functions to construct approximate Clifford noise models out of a general noise model\n",
    "\n",
    "\n",
    "6. [Extended stabilizer tutorial](tutorials/simulators/6_extended_stabilizer_tutorial.ipynb) - Gives an overview of the *extended stabilizer* Qasm Simulator method\n",
    "\n",
    "\n",
    "7. [Matrix Product State simulator](tutorials/simulators/7_matrix_product_state_method.ipynb) - Gives an overview of the *matrix product state* Simulator method\n",
    "\n",
    "\n",
    "##  Quantum Device Noise Analysis\n",
    "\n",
    "This includes better characterization of errors, improving gates, and computing in the presence of noise. Qiskit `ignis` is meant for those who want to design quantum error correction codes, or who wish to study ways to characterize errors through methods such as tomography and randomized benchmarking, or even to find a better way for using gates by exploring dynamical decoupling and optimal control.\n",
    "\n",
    "1. [Hamiltonian and gate characterizations](tutorials/noise/1_hamiltonian_and_gate_characterization.ipynb) - Sequences to measure ZZ rates between qubits and to measure rotation and angle errors in the gates.\n",
    "\n",
    "\n",
    "2. [Relaxation and decoherence](tutorials/noise/2_relaxation_and_decoherence.ipynb) - How to measure coherence times on the real quantum hardware\n",
    "\n",
    "\n",
    "3. [Measurement error mitigation](tutorials/noise/3_measurement_error_mitigation.ipynb) - How to peform calibration experiments for measurement errors and fed those calibrations into a \"filter\" that can be utilized to mitigate errors in subsequent experiments.\n",
    "\n",
    "\n",
    "4. [Randomized benchmarking](tutorials/noise/4_randomized_benchmarking.ipynb) - Randomized benchmarking (RB) is a technique used to measure the average gate error by measuring the outcomes of random Clifford circuits. This is used internally to report gate errors on our systems. \n",
    "\n",
    "\n",
    "5. [Quantum volume](tutorials/noise/5_quantum_volume.ipynb) - How to run quantum volume measurements on the quantum hardware.\n",
    "\n",
    "\n",
    "6. [Repetition Code](tutorials/noise/6_repetition_code.ipynb) - How to run a simple error correction code, known as the repetition code. This can be used to characterize bit flip errors in the hardware.\n",
    "\n",
    "\n",
    "7. [Accreditation](tutorials/noise/7_accreditation.ipynb) - protocol devised to characterize the reliability of noisy quantum devices."
   ]
  },
  {
   "cell_type": "code",
   "execution_count": 4,
   "metadata": {
    "ExecuteTime": {
     "end_time": "2019-08-09T15:31:26.743124Z",
     "start_time": "2019-08-09T15:31:26.732618Z"
    }
   },
   "outputs": [
    {
     "data": {
      "text/html": [
       "<div style='width: 100%; background-color:#d5d9e0;padding-left: 10px; padding-bottom: 10px; padding-right: 10px; padding-top: 5px'><h3>This code is a part of Qiskit</h3><p>&copy; Copyright IBM 2017, 2022.</p><p>This code is licensed under the Apache License, Version 2.0. You may<br>obtain a copy of this license in the LICENSE.txt file in the root directory<br> of this source tree or at http://www.apache.org/licenses/LICENSE-2.0.<p>Any modifications or derivative works of this code must retain this<br>copyright notice, and modified files need to carry a notice indicating<br>that they have been altered from the originals.</p></div>"
      ],
      "text/plain": [
       "<IPython.core.display.HTML object>"
      ]
     },
     "metadata": {},
     "output_type": "display_data"
    }
   ],
   "source": [
    "import qiskit.tools.jupyter\n",
    "%qiskit_copyright"
   ]
  },
  {
   "cell_type": "code",
   "execution_count": 3,
   "metadata": {},
   "outputs": [
    {
     "name": "stdout",
     "output_type": "stream",
     "text": [
      "Collecting qiskit\n",
      "  Using cached qiskit-0.34.2.tar.gz (13 kB)\n",
      "Collecting qiskit-terra==0.19.2\n",
      "  Downloading qiskit_terra-0.19.2-cp38-cp38-manylinux_2_12_x86_64.manylinux2010_x86_64.whl (6.5 MB)\n",
      "\u001b[K     |████████████████████████████████| 6.5 MB 3.5 MB/s eta 0:00:01\n",
      "\u001b[?25hCollecting qiskit-aer==0.10.3\n",
      "  Downloading qiskit_aer-0.10.3-cp38-cp38-manylinux_2_12_x86_64.manylinux2010_x86_64.whl (18.0 MB)\n",
      "\u001b[K     |████████████████████████████████| 18.0 MB 11.2 MB/s eta 0:00:01\n",
      "\u001b[?25hCollecting qiskit-ibmq-provider==0.18.3\n",
      "  Using cached qiskit_ibmq_provider-0.18.3-py3-none-any.whl (238 kB)\n",
      "Collecting qiskit-ignis==0.7.0\n",
      "  Using cached qiskit_ignis-0.7.0-py3-none-any.whl (200 kB)\n",
      "Requirement already satisfied: numpy>=1.16.3 in /home/dsmishler/anaconda3/lib/python3.8/site-packages (from qiskit-aer==0.10.3->qiskit) (1.20.1)\n",
      "Requirement already satisfied: scipy>=1.0 in /home/dsmishler/anaconda3/lib/python3.8/site-packages (from qiskit-aer==0.10.3->qiskit) (1.6.2)\n",
      "Requirement already satisfied: requests>=2.19 in /home/dsmishler/anaconda3/lib/python3.8/site-packages (from qiskit-ibmq-provider==0.18.3->qiskit) (2.25.1)\n",
      "Requirement already satisfied: python-dateutil>=2.8.0 in /home/dsmishler/anaconda3/lib/python3.8/site-packages (from qiskit-ibmq-provider==0.18.3->qiskit) (2.8.1)\n",
      "Collecting websocket-client>=1.0.1\n",
      "  Using cached websocket_client-1.3.1-py3-none-any.whl (54 kB)\n",
      "Collecting requests-ntlm>=1.1.0\n",
      "  Using cached requests_ntlm-1.1.0-py2.py3-none-any.whl (5.7 kB)\n",
      "Requirement already satisfied: urllib3>=1.21.1 in /home/dsmishler/anaconda3/lib/python3.8/site-packages (from qiskit-ibmq-provider==0.18.3->qiskit) (1.26.4)\n",
      "Collecting retworkx>=0.8.0\n",
      "  Downloading retworkx-0.11.0-cp38-cp38-manylinux_2_5_x86_64.manylinux1_x86_64.manylinux_2_12_x86_64.manylinux2010_x86_64.whl (1.6 MB)\n",
      "\u001b[K     |████████████████████████████████| 1.6 MB 19.1 MB/s eta 0:00:01\n",
      "\u001b[?25hRequirement already satisfied: setuptools>=40.1.0 in /home/dsmishler/anaconda3/lib/python3.8/site-packages (from qiskit-ignis==0.7.0->qiskit) (52.0.0.post20210125)\n",
      "Requirement already satisfied: sympy>=1.3 in /home/dsmishler/anaconda3/lib/python3.8/site-packages (from qiskit-terra==0.19.2->qiskit) (1.8)\n",
      "Collecting python-constraint>=1.4\n",
      "  Using cached python-constraint-1.4.0.tar.bz2 (18 kB)\n",
      "Collecting dill>=0.3\n",
      "  Using cached dill-0.3.4-py2.py3-none-any.whl (86 kB)\n",
      "Requirement already satisfied: psutil>=5 in /home/dsmishler/anaconda3/lib/python3.8/site-packages (from qiskit-terra==0.19.2->qiskit) (5.8.0)\n",
      "Collecting tweedledum<2.0,>=1.1\n",
      "  Downloading tweedledum-1.1.1-cp38-cp38-manylinux_2_12_x86_64.manylinux2010_x86_64.whl (929 kB)\n",
      "\u001b[K     |████████████████████████████████| 929 kB 15.5 MB/s eta 0:00:01\n",
      "\u001b[?25hRequirement already satisfied: ply>=3.10 in /home/dsmishler/anaconda3/lib/python3.8/site-packages (from qiskit-terra==0.19.2->qiskit) (3.11)\n",
      "Collecting symengine>=0.8\n",
      "  Downloading symengine-0.9.2-cp38-cp38-manylinux2010_x86_64.whl (37.5 MB)\n",
      "\u001b[K     |████████████████████████████████| 37.5 MB 20.5 MB/s eta 0:00:01\n",
      "\u001b[?25hCollecting stevedore>=3.0.0\n",
      "  Using cached stevedore-3.5.0-py3-none-any.whl (49 kB)\n",
      "Requirement already satisfied: six>=1.5 in /home/dsmishler/anaconda3/lib/python3.8/site-packages (from python-dateutil>=2.8.0->qiskit-ibmq-provider==0.18.3->qiskit) (1.15.0)\n",
      "Requirement already satisfied: chardet<5,>=3.0.2 in /home/dsmishler/anaconda3/lib/python3.8/site-packages (from requests>=2.19->qiskit-ibmq-provider==0.18.3->qiskit) (4.0.0)\n",
      "Requirement already satisfied: idna<3,>=2.5 in /home/dsmishler/anaconda3/lib/python3.8/site-packages (from requests>=2.19->qiskit-ibmq-provider==0.18.3->qiskit) (2.10)\n",
      "Requirement already satisfied: certifi>=2017.4.17 in /home/dsmishler/anaconda3/lib/python3.8/site-packages (from requests>=2.19->qiskit-ibmq-provider==0.18.3->qiskit) (2020.12.5)\n",
      "Requirement already satisfied: cryptography>=1.3 in /home/dsmishler/anaconda3/lib/python3.8/site-packages (from requests-ntlm>=1.1.0->qiskit-ibmq-provider==0.18.3->qiskit) (3.4.7)\n",
      "Collecting ntlm-auth>=1.0.2\n",
      "  Using cached ntlm_auth-1.5.0-py2.py3-none-any.whl (29 kB)\n",
      "Requirement already satisfied: cffi>=1.12 in /home/dsmishler/anaconda3/lib/python3.8/site-packages (from cryptography>=1.3->requests-ntlm>=1.1.0->qiskit-ibmq-provider==0.18.3->qiskit) (1.14.5)\n",
      "Requirement already satisfied: pycparser in /home/dsmishler/anaconda3/lib/python3.8/site-packages (from cffi>=1.12->cryptography>=1.3->requests-ntlm>=1.1.0->qiskit-ibmq-provider==0.18.3->qiskit) (2.20)\n",
      "Collecting pbr!=2.1.0,>=2.0.0\n",
      "  Using cached pbr-5.8.1-py2.py3-none-any.whl (113 kB)\n",
      "Requirement already satisfied: mpmath>=0.19 in /home/dsmishler/anaconda3/lib/python3.8/site-packages (from sympy>=1.3->qiskit-terra==0.19.2->qiskit) (1.2.1)\n",
      "Building wheels for collected packages: qiskit, python-constraint\n",
      "  Building wheel for qiskit (setup.py) ... \u001b[?25ldone\n",
      "\u001b[?25h  Created wheel for qiskit: filename=qiskit-0.34.2-py3-none-any.whl size=11792 sha256=c39badb3b0928def2628a9dac0acc060a9f28936042334e0589bee4834bc4a4c\n",
      "  Stored in directory: /home/dsmishler/.cache/pip/wheels/fc/65/25/bf94d3c84cabe3eca2af16a7e8fcc0d39a0910e9497245a1e4\n",
      "  Building wheel for python-constraint (setup.py) ... \u001b[?25ldone\n",
      "\u001b[?25h  Created wheel for python-constraint: filename=python_constraint-1.4.0-py2.py3-none-any.whl size=24079 sha256=e782789a0c00a0a6ce83f411d90d1e244450609583627506130e145402c19324\n",
      "  Stored in directory: /home/dsmishler/.cache/pip/wheels/86/ba/5c/4e9115777de42c6a2e1ca77ef7c9d0d479254c5080341b55c5\n",
      "Successfully built qiskit python-constraint\n",
      "Installing collected packages: pbr, tweedledum, symengine, stevedore, retworkx, python-constraint, ntlm-auth, dill, websocket-client, requests-ntlm, qiskit-terra, qiskit-ignis, qiskit-ibmq-provider, qiskit-aer, qiskit\n",
      "Successfully installed dill-0.3.4 ntlm-auth-1.5.0 pbr-5.8.1 python-constraint-1.4.0 qiskit-0.34.2 qiskit-aer-0.10.3 qiskit-ibmq-provider-0.18.3 qiskit-ignis-0.7.0 qiskit-terra-0.19.2 requests-ntlm-1.1.0 retworkx-0.11.0 stevedore-3.5.0 symengine-0.9.2 tweedledum-1.1.1 websocket-client-1.3.1\n",
      "Note: you may need to restart the kernel to use updated packages.\n"
     ]
    }
   ],
   "source": [
    "pip install qiskit"
   ]
  },
  {
   "cell_type": "code",
   "execution_count": null,
   "metadata": {},
   "outputs": [],
   "source": []
  }
 ],
 "metadata": {
  "hide_input": false,
  "kernelspec": {
   "display_name": "Python 3",
   "language": "python",
   "name": "python3"
  },
  "language_info": {
   "codemirror_mode": {
    "name": "ipython",
    "version": 3
   },
   "file_extension": ".py",
   "mimetype": "text/x-python",
   "name": "python",
   "nbconvert_exporter": "python",
   "pygments_lexer": "ipython3",
   "version": "3.8.8"
  },
  "varInspector": {
   "cols": {
    "lenName": 16,
    "lenType": 16,
    "lenVar": 40
   },
   "kernels_config": {
    "python": {
     "delete_cmd_postfix": "",
     "delete_cmd_prefix": "del ",
     "library": "var_list.py",
     "varRefreshCmd": "print(var_dic_list())"
    },
    "r": {
     "delete_cmd_postfix": ") ",
     "delete_cmd_prefix": "rm(",
     "library": "var_list.r",
     "varRefreshCmd": "cat(var_dic_list()) "
    }
   },
   "types_to_exclude": [
    "module",
    "function",
    "builtin_function_or_method",
    "instance",
    "_Feature"
   ],
   "window_display": false
  }
 },
 "nbformat": 4,
 "nbformat_minor": 2
}
